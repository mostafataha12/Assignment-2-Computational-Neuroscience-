{
 "cells": [
  {
   "cell_type": "code",
   "execution_count": 1,
   "id": "fd58f283",
   "metadata": {},
   "outputs": [],
   "source": [
    "import numpy as np"
   ]
  },
  {
   "cell_type": "code",
   "execution_count": 2,
   "id": "93d7fc58",
   "metadata": {},
   "outputs": [],
   "source": [
    "def sigmoid(x):\n",
    "    return 1 / (1 + np.exp(-x))\n",
    "\n",
    "def sigmoid_derivative(x):\n",
    "    return x * (1 - x)"
   ]
  },
  {
   "cell_type": "code",
   "execution_count": 3,
   "id": "40637643",
   "metadata": {},
   "outputs": [],
   "source": [
    "# Inputs\n",
    "i1, i2 = 0.05, 0.10\n",
    "\n",
    "target_o1, target_o2 = 0.01, 0.99\n",
    "\n",
    "w1, w2, w3, w4 = 0.15, 0.20, 0.25, 0.30\n",
    "w5, w6, w7, w8 = 0.40, 0.45, 0.50, 0.55\n",
    "b1, b2 = 0.35, 0.60"
   ]
  },
  {
   "cell_type": "code",
   "execution_count": 4,
   "id": "d8c8609f",
   "metadata": {},
   "outputs": [
    {
     "name": "stdout",
     "output_type": "stream",
     "text": [
      "Hidden layer activations: h1=0.59448, h2=0.59628\n"
     ]
    }
   ],
   "source": [
    "net_h1 = (i1 * w1) + (i2 * w3) + b1\n",
    "net_h2 = (i1 * w2) + (i2 * w4) + b1\n",
    "h1 = sigmoid(net_h1)\n",
    "h2 = sigmoid(net_h2)\n",
    "print(f\"Hidden layer activations: h1={h1:.5f}, h2={h2:.5f}\")"
   ]
  },
  {
   "cell_type": "code",
   "execution_count": 5,
   "id": "79e45b16",
   "metadata": {},
   "outputs": [
    {
     "name": "stdout",
     "output_type": "stream",
     "text": [
      "Output layer activations: o1=0.75693, o2=0.76772\n"
     ]
    }
   ],
   "source": [
    "net_o1 = (h1 * w5) + (h2 * w7) + b2\n",
    "net_o2 = (h1 * w6) + (h2 * w8) + b2\n",
    "o1 = sigmoid(net_o1)\n",
    "o2 = sigmoid(net_o2)\n",
    "print(f\"Output layer activations: o1={o1:.5f}, o2={o2:.5f}\")"
   ]
  },
  {
   "cell_type": "code",
   "execution_count": 6,
   "id": "ff7e03e6",
   "metadata": {},
   "outputs": [
    {
     "name": "stdout",
     "output_type": "stream",
     "text": [
      "Total Error: 0.30366\n"
     ]
    }
   ],
   "source": [
    "error_o1 = 0.5 * (target_o1 - o1) ** 2\n",
    "error_o2 = 0.5 * (target_o2 - o2) ** 2\n",
    "total_error = error_o1 + error_o2\n",
    "print(f\"Total Error: {total_error:.5f}\")"
   ]
  },
  {
   "cell_type": "code",
   "execution_count": 7,
   "id": "d7cf07e6",
   "metadata": {},
   "outputs": [],
   "source": [
    "delta_o1 = (o1 - target_o1) * sigmoid_derivative(o1)\n",
    "delta_o2 = (o2 - target_o2) * sigmoid_derivative(o2)"
   ]
  },
  {
   "cell_type": "code",
   "execution_count": 8,
   "id": "81bfb360",
   "metadata": {},
   "outputs": [],
   "source": [
    "dw5 = h1 * delta_o1\n",
    "dw6 = h1 * delta_o2\n",
    "dw7 = h2 * delta_o1\n",
    "dw8 = h2 * delta_o2\n",
    "\n",
    "delta_b2 = delta_o1 + delta_o2"
   ]
  },
  {
   "cell_type": "code",
   "execution_count": 9,
   "id": "46346bba",
   "metadata": {},
   "outputs": [],
   "source": [
    "delta_h1 = (delta_o1 * w5 + delta_o2 * w6) * sigmoid_derivative(h1)\n",
    "delta_h2 = (delta_o1 * w7 + delta_o2 * w8) * sigmoid_derivative(h2)"
   ]
  },
  {
   "cell_type": "code",
   "execution_count": 11,
   "id": "74f4345b",
   "metadata": {},
   "outputs": [
    {
     "name": "stdout",
     "output_type": "stream",
     "text": [
      "Gradients (hidden-to-output): dw5=0.08170, dw6=-0.02356, dw7=0.08194, dw8=-0.02364\n",
      "Gradients (input-to-hidden): dw1=0.00045, dw2=0.00056, dw3=0.00090, dw4=0.00113\n"
     ]
    }
   ],
   "source": [
    "dw1 = i1 * delta_h1\n",
    "dw2 = i1 * delta_h2\n",
    "dw3 = i2 * delta_h1\n",
    "dw4 = i2 * delta_h2\n",
    "\n",
    "delta_b1 = delta_h1 + delta_h2\n",
    "\n",
    "print(f\"Gradients (hidden-to-output): dw5={dw5:.5f}, dw6={dw6:.5f}, dw7={dw7:.5f}, dw8={dw8:.5f}\")\n",
    "print(f\"Gradients (input-to-hidden): dw1={dw1:.5f}, dw2={dw2:.5f}, dw3={dw3:.5f}, dw4={dw4:.5f}\")\n",
    "\n",
    "eta = 0.5"
   ]
  },
  {
   "cell_type": "code",
   "execution_count": 12,
   "id": "12366b64",
   "metadata": {},
   "outputs": [
    {
     "name": "stdout",
     "output_type": "stream",
     "text": [
      "Updated weights: w1=0.14978, w2=0.19972, w3=0.24955, w4=0.29944\n",
      "Updated weights: w5=0.35915, w6=0.46178, w7=0.45903, w8=0.56182\n",
      "Updated biases: b1=0.33988, b2=0.55111\n"
     ]
    }
   ],
   "source": [
    "w1 -= eta * dw1\n",
    "w2 -= eta * dw2\n",
    "w3 -= eta * dw3\n",
    "w4 -= eta * dw4\n",
    "w5 -= eta * dw5\n",
    "w6 -= eta * dw6\n",
    "w7 -= eta * dw7\n",
    "w8 -= eta * dw8\n",
    "b1 -= eta * delta_b1\n",
    "b2 -= eta * delta_b2\n",
    "\n",
    "print(f\"Updated weights: w1={w1:.5f}, w2={w2:.5f}, w3={w3:.5f}, w4={w4:.5f}\")\n",
    "print(f\"Updated weights: w5={w5:.5f}, w6={w6:.5f}, w7={w7:.5f}, w8={w8:.5f}\")\n",
    "print(f\"Updated biases: b1={b1:.5f}, b2={b2:.5f}\")"
   ]
  }
 ],
 "metadata": {
  "kernelspec": {
   "display_name": "Python 3 (ipykernel)",
   "language": "python",
   "name": "python3"
  },
  "language_info": {
   "codemirror_mode": {
    "name": "ipython",
    "version": 3
   },
   "file_extension": ".py",
   "mimetype": "text/x-python",
   "name": "python",
   "nbconvert_exporter": "python",
   "pygments_lexer": "ipython3",
   "version": "3.9.13"
  }
 },
 "nbformat": 4,
 "nbformat_minor": 5
}
